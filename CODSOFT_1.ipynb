{
  "cells": [
    {
      "cell_type": "code",
      "execution_count": null,
      "metadata": {
        "id": "sQRzgs7eicmK"
      },
      "outputs": [],
      "source": [
        "import numpy as np\n",
        "import nltk\n",
        "import string\n",
        "import random\n"
      ]
    },
    {
      "cell_type": "markdown",
      "metadata": {
        "id": "qO0wOFyliuum"
      },
      "source": []
    },
    {
      "cell_type": "code",
      "execution_count": null,
      "metadata": {
        "colab": {
          "base_uri": "https://localhost:8080/"
        },
        "id": "UARZxqprivGU",
        "outputId": "162e3b93-7726-4017-9384-14f1bceb9d89"
      },
      "outputs": [
        {
          "name": "stderr",
          "output_type": "stream",
          "text": [
            "[nltk_data] Downloading package punkt to /root/nltk_data...\n",
            "[nltk_data]   Package punkt is already up-to-date!\n",
            "[nltk_data] Downloading package wordnet to /root/nltk_data...\n",
            "[nltk_data]   Package wordnet is already up-to-date!\n",
            "[nltk_data] Error loading onw-1.4: Package 'onw-1.4' not found in\n",
            "[nltk_data]     index\n"
          ]
        }
      ],
      "source": [
        "f=open('/data.txt','r',errors='ignore')\n",
        "raw_doc=f.read()\n",
        "raw_doc=raw_doc.lower()\n",
        "nltk.download('punkt')\n",
        "nltk.download('wordnet')\n",
        "nltk.download('onw-1.4')\n",
        "sentence_tokens=nltk.sent_tokenize(raw_doc)\n",
        "word_tokens=nltk.word_tokenize(raw_doc)\n"
      ]
    },
    {
      "cell_type": "markdown",
      "metadata": {
        "id": "KJ6OH-YzkKrq"
      },
      "source": []
    },
    {
      "cell_type": "code",
      "execution_count": null,
      "metadata": {
        "id": "1lQSZ0xLkNed"
      },
      "outputs": [],
      "source": [
        "lemmer=nltk.stem.WordNetLemmatizer()\n",
        "def LemTokens(tokens):\n",
        "    return[lemmer.lemmatize(token) for token in tokens]\n",
        "remove_punc_dict = dict((ord(punct),None) for punct in string.punctuation)\n",
        "def LemNormalize(text):\n",
        "    return LemTokens(nltk.word_tokenize(text.lower().translate(remove_punc_dict)))\n"
      ]
    },
    {
      "cell_type": "code",
      "execution_count": null,
      "metadata": {
        "id": "gUGmUW3Wl0Lc"
      },
      "outputs": [],
      "source": [
        "greet_inputs=('hello','hi','whatsapp','how are you?')\n",
        "greet_responses=('hi','hey','hey there')\n",
        "def greet(sentence):\n",
        "    for word in sentence.split():\n",
        "        if word.lower( ) in greet_inputs:\n",
        "           return random.choice(greet_responses)\n",
        "from sklearn.feature_extraction.text import TfidfVectorizer\n",
        "from sklearn.metrics.pairwise import cosine_similarity\n",
        "\n"
      ]
    },
    {
      "cell_type": "code",
      "execution_count": null,
      "metadata": {
        "id": "k8IEKqJ7nnnv"
      },
      "outputs": [],
      "source": [
        "def response(user_response):\n",
        "  robo1_response=' '\n",
        "  TfidfVec=  TfidfVectorizer(tokenizer=LemNormalize,stop_words='english')\n",
        "  tfidf=TfidfVec.fit_transform(sentence_tokens)\n",
        "  vals=cosine_similarity(tfidf[-1],tfidf)\n",
        "  idx=vals.argsort()[0][-2]\n",
        "  flat=vals.flatten()\n",
        "  flat.sort()\n",
        "  req_tfidf=flat[-2]\n",
        "  if (req_tfidf==0):\n",
        "    robo1_response=robo1_response+\"I am sorry. unable to understand you!\"\n",
        "    return robo1_response\n",
        "  else:\n",
        "    robo1_response=robo1_response+sentence_tokens[idx]\n",
        "    return robo1_response\n"
      ]
    },
    {
      "cell_type": "code",
      "execution_count": null,
      "metadata": {
        "colab": {
          "background_save": true,
          "base_uri": "https://localhost:8080/"
        },
        "id": "gMgOtb-npmch",
        "outputId": "253495d5-d7b0-4e96-ea81-52e46af0dfe6"
      },
      "outputs": [
        {
          "name": "stdout",
          "output_type": "stream",
          "text": [
            "hello! i am bot.start type with hi,for end type with bye\n",
            "Bot:  I am sorry. unable to understand you!\n",
            "Bothey there\n",
            "Bot:  [5][6]\n",
            "\n",
            "improvements in transformer-based deep neural networks enabled an ai boom of generative ai systems in the early 2020s.\n"
          ]
        }
      ],
      "source": [
        "flag = True\n",
        "print('hello! i am bot.start type with hi,for end type with bye')\n",
        "while(flag == True):\n",
        "  user_response = input()\n",
        "  user_response = user_response.lower()\n",
        "  if(user_response != 'bye'):\n",
        "    if(user_response == 'thank you' or user_response == 'thanks'):\n",
        "      flag=False\n",
        "      print('Bot:you are welcome..')\n",
        "    else:\n",
        "      if(greet(user_response) != None):\n",
        "        print('Bot'+greet(user_response))\n",
        "      else:\n",
        "        sentence_tokens.append (user_response)\n",
        "        word_tokens=word_tokens+nltk.word_tokenize(user_response)\n",
        "        final_words=list(set(word_tokens))\n",
        "        print('Bot:',end=' ')\n",
        "        print(response(user_response))\n",
        "        sentence_tokens.remove(user_response)\n",
        "else:\n",
        "  flag = False\n",
        "  print('Bot:GoodBye!')"
      ]
    }
  ],
  "metadata": {
    "colab": {
      "provenance": []
    },
    "kernelspec": {
      "display_name": "Python 3",
      "name": "python3"
    },
    "language_info": {
      "name": "python"
    }
  },
  "nbformat": 4,
  "nbformat_minor": 0
}
